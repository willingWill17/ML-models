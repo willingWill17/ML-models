{
 "cells": [
  {
   "cell_type": "code",
   "id": "initial_id",
   "metadata": {
    "collapsed": true,
    "ExecuteTime": {
     "end_time": "2025-04-19T16:52:43.122906Z",
     "start_time": "2025-04-19T16:52:43.118279Z"
    }
   },
   "source": [
    "import numpy as np\n",
    "import pandas as pd\n",
    "\n",
    "from sklearn.linear_model import LinearRegression\n",
    "from sklearn.preprocessing import StandardScaler\n",
    "from sklearn.model_selection import train_test_split\n",
    "from sklearn.metrics import mean_absolute_error as MAE\n",
    "from sklearn.metrics import mean_squared_error as MSE\n",
    "from sklearn.metrics import r2_score as R2\n",
    "\n",
    "RANDOM_STATE = 42\n"
   ],
   "outputs": [],
   "execution_count": 445
  },
  {
   "metadata": {
    "ExecuteTime": {
     "end_time": "2025-04-19T16:52:43.138767Z",
     "start_time": "2025-04-19T16:52:43.134753Z"
    }
   },
   "cell_type": "code",
   "source": [
    "class HandmadeLinearRegression:\n",
    "    def __init__(self):\n",
    "        self.w = None\n",
    "\n",
    "    def predict(self, X):\n",
    "        return X.dot(self.w[1:]) + self.w[0]\n",
    "\n",
    "    def fit(self, X, Y):\n",
    "        pass"
   ],
   "id": "d56e3f2211285fdd",
   "outputs": [],
   "execution_count": 446
  },
  {
   "metadata": {
    "ExecuteTime": {
     "end_time": "2025-04-19T16:52:43.172155Z",
     "start_time": "2025-04-19T16:52:43.167972Z"
    }
   },
   "cell_type": "code",
   "source": [
    "class GradientDescent(HandmadeLinearRegression):\n",
    "    def __init__(self, alpha = 0.0001, maxLoop=5000, randomState=42):\n",
    "        super().__init__()\n",
    "        self.alpha = alpha\n",
    "        self.maxLoop = maxLoop\n",
    "        self.randomState = randomState\n",
    "\n",
    "        \n",
    "    def fit(self, X, Y):\n",
    "        \n",
    "        nSamples, nFeatures = X.shape\n",
    "        \n",
    "        numberGenerator = np.random.RandomState(self.randomState)\n",
    "        self.w = numberGenerator.normal(loc=0.0, scale=0.01, size= 1 + nFeatures)\n",
    "                \n",
    "        for i in range(self.maxLoop):\n",
    "            \n",
    "            y = self.predict(X)\n",
    "            diff = y - Y\n",
    "            self.w[0] -= self.alpha * np.sum(diff)\n",
    "            self.w[1:] -= self.alpha * np.dot(X.T, diff)\n",
    "\n",
    "            if np.any(np.isnan(self.w)) or np.any(np.isinf(self.w)):\n",
    "                print(f\"NaN or Inf detected at iteration {i}\")\n",
    "                return\n"
   ],
   "id": "d879ebc58029f2a1",
   "outputs": [],
   "execution_count": 447
  },
  {
   "metadata": {
    "ExecuteTime": {
     "end_time": "2025-04-19T16:52:43.204024Z",
     "start_time": "2025-04-19T16:52:43.200665Z"
    }
   },
   "cell_type": "code",
   "source": [
    "class NormalEquation(HandmadeLinearRegression):\n",
    "    def addBias(self, X):\n",
    "        return np.concatenate((np.ones((X.shape[0], 1)), X), axis=1)\n",
    "    \n",
    "    def _fit(self, X, Y):\n",
    "        self.w = np.linalg.pinv(X.T @ X) @ (X.T @ Y)\n",
    "\n",
    "    def fit(self, X, Y):\n",
    "        XBias = self.addBias(X)\n",
    "        self._fit(XBias, Y)"
   ],
   "id": "134c7e8cf9f0f5f",
   "outputs": [],
   "execution_count": 448
  },
  {
   "metadata": {
    "ExecuteTime": {
     "end_time": "2025-04-19T16:52:43.259028Z",
     "start_time": "2025-04-19T16:52:43.231545Z"
    }
   },
   "cell_type": "code",
   "source": [
    "studentDataset = pd.read_csv('StudentPerformanceFactors.csv')\n",
    "scaler = StandardScaler()\n",
    "\n",
    "studentDataset = studentDataset.fillna(studentDataset.mean(numeric_only=True))\n",
    "studentDataset = studentDataset.fillna(studentDataset.mode().iloc[0])\n"
   ],
   "id": "3654f897ac3f3b26",
   "outputs": [],
   "execution_count": 449
  },
  {
   "metadata": {
    "ExecuteTime": {
     "end_time": "2025-04-19T16:52:43.288287Z",
     "start_time": "2025-04-19T16:52:43.284242Z"
    }
   },
   "cell_type": "code",
   "source": [
    "columnNames = studentDataset.columns.values\n",
    "\n",
    "ordinalMap = {\n",
    "    'Parental_Involvement': {'Low': -1, 'Medium': 0, 'High': 1},\n",
    "    'Access_to_Resources': {'Low': -1, 'Medium': 0, 'High': 1},\n",
    "    'Extracurricular_Activities': {'No': -1, 'Yes': 1},\n",
    "    'Motivation_Level': {'Low': -1, 'Medium': 0, 'High': 1},\n",
    "    'Internet_Access': {'No': -1, 'Yes': 1},\n",
    "    'Family_Income': {'Low': -1, 'Medium': 0, 'High': 1},\n",
    "    'Teacher_Quality': {'Low': -1, 'Medium': 0, 'High': 1},\n",
    "    'School_Type': {'Public': 0, 'Private': 1},\n",
    "    'Peer_Influence': {'Negative': -1,'Neutral': 0, 'Positive': 1},\n",
    "    'Learning_Disabilities': {'No': -1, 'Yes': 1},\n",
    "    'Parental_Education_Level': {'High School': 1, 'College': 2, 'Postgraduate': 3},\n",
    "    'Distance_from_Home': {'Near': 1, 'Moderate': 0, 'Far': -1},\n",
    "    'Gender': {'Male': 0, 'Female': 1},\n",
    "}\n"
   ],
   "id": "686bac76da0fc328",
   "outputs": [],
   "execution_count": 450
  },
  {
   "metadata": {
    "ExecuteTime": {
     "end_time": "2025-04-19T16:52:43.359693Z",
     "start_time": "2025-04-19T16:52:43.337791Z"
    }
   },
   "cell_type": "code",
   "source": [
    "\n",
    "# objectColumns = studentDataset.select_dtypes(include=['object']).columns.tolist()\n",
    "# studentDataset = pd.get_dummies(studentDataset, columns=objectColumns, drop_first=True)\n",
    "# studentDataset = studentDataset.astype(float)\n",
    "\n",
    "targetColumn = 'Exam_Score'\n",
    "featureColumns = [col for col in studentDataset.columns if col != targetColumn]\n",
    "\n",
    "\n",
    "for col, mapping in ordinalMap.items():\n",
    "    studentDataset[col] = studentDataset[col].map(mapping)\n",
    "\n",
    "studentDataset[featureColumns] = scaler.fit_transform(studentDataset[featureColumns])\n",
    "\n",
    "studentDataset.head(5)"
   ],
   "id": "6fe8f6af10865d77",
   "outputs": [
    {
     "data": {
      "text/plain": [
       "   Hours_Studied  Attendance  Parental_Involvement  Access_to_Resources  \\\n",
       "0       0.504942    0.348375             -1.562146             1.288574   \n",
       "1      -0.162822   -1.383736             -1.562146            -0.143488   \n",
       "2       0.671882    1.560853             -0.124267            -0.143488   \n",
       "3       1.506587    0.781403             -1.562146            -0.143488   \n",
       "4      -0.162822    1.041220             -0.124267            -0.143488   \n",
       "\n",
       "   Extracurricular_Activities  Sleep_Hours  Previous_Scores  Motivation_Level  \\\n",
       "0                   -1.214685    -0.019796        -0.143800         -1.302866   \n",
       "1                   -1.214685     0.661399        -1.116110         -1.302866   \n",
       "2                    0.823259    -0.019796         1.106313          0.134442   \n",
       "3                    0.823259     0.661399         1.592469          0.134442   \n",
       "4                    0.823259    -0.700990        -0.699406          0.134442   \n",
       "\n",
       "   Internet_Access  Tutoring_Sessions  Family_Income  Teacher_Quality  \\\n",
       "0         0.285825          -1.213934      -1.060721        -0.327233   \n",
       "1         0.285825           0.411451       0.285971        -0.327233   \n",
       "2         0.285825           0.411451       0.285971        -0.327233   \n",
       "3         0.285825          -0.401242       0.285971        -0.327233   \n",
       "4         0.285825           1.224144       0.285971         1.348757   \n",
       "\n",
       "   School_Type  Peer_Influence  Physical_Activity  Learning_Disabilities  \\\n",
       "0    -0.661006        1.070550           0.031411              -0.342867   \n",
       "1    -0.661006       -1.575587           1.001199              -0.342867   \n",
       "2    -0.661006       -0.252518           1.001199              -0.342867   \n",
       "3    -0.661006       -1.575587           1.001199              -0.342867   \n",
       "4    -0.661006       -0.252518           1.001199              -0.342867   \n",
       "\n",
       "   Parental_Education_Level  Distance_from_Home    Gender  Exam_Score  \n",
       "0                 -0.893742            0.748407 -0.855746          67  \n",
       "1                  0.390223           -0.743665  1.168570          61  \n",
       "2                  1.674187            0.748407 -0.855746          74  \n",
       "3                 -0.893742           -0.743665 -0.855746          71  \n",
       "4                  0.390223            0.748407  1.168570          70  "
      ],
      "text/html": [
       "<div>\n",
       "<style scoped>\n",
       "    .dataframe tbody tr th:only-of-type {\n",
       "        vertical-align: middle;\n",
       "    }\n",
       "\n",
       "    .dataframe tbody tr th {\n",
       "        vertical-align: top;\n",
       "    }\n",
       "\n",
       "    .dataframe thead th {\n",
       "        text-align: right;\n",
       "    }\n",
       "</style>\n",
       "<table border=\"1\" class=\"dataframe\">\n",
       "  <thead>\n",
       "    <tr style=\"text-align: right;\">\n",
       "      <th></th>\n",
       "      <th>Hours_Studied</th>\n",
       "      <th>Attendance</th>\n",
       "      <th>Parental_Involvement</th>\n",
       "      <th>Access_to_Resources</th>\n",
       "      <th>Extracurricular_Activities</th>\n",
       "      <th>Sleep_Hours</th>\n",
       "      <th>Previous_Scores</th>\n",
       "      <th>Motivation_Level</th>\n",
       "      <th>Internet_Access</th>\n",
       "      <th>Tutoring_Sessions</th>\n",
       "      <th>Family_Income</th>\n",
       "      <th>Teacher_Quality</th>\n",
       "      <th>School_Type</th>\n",
       "      <th>Peer_Influence</th>\n",
       "      <th>Physical_Activity</th>\n",
       "      <th>Learning_Disabilities</th>\n",
       "      <th>Parental_Education_Level</th>\n",
       "      <th>Distance_from_Home</th>\n",
       "      <th>Gender</th>\n",
       "      <th>Exam_Score</th>\n",
       "    </tr>\n",
       "  </thead>\n",
       "  <tbody>\n",
       "    <tr>\n",
       "      <th>0</th>\n",
       "      <td>0.504942</td>\n",
       "      <td>0.348375</td>\n",
       "      <td>-1.562146</td>\n",
       "      <td>1.288574</td>\n",
       "      <td>-1.214685</td>\n",
       "      <td>-0.019796</td>\n",
       "      <td>-0.143800</td>\n",
       "      <td>-1.302866</td>\n",
       "      <td>0.285825</td>\n",
       "      <td>-1.213934</td>\n",
       "      <td>-1.060721</td>\n",
       "      <td>-0.327233</td>\n",
       "      <td>-0.661006</td>\n",
       "      <td>1.070550</td>\n",
       "      <td>0.031411</td>\n",
       "      <td>-0.342867</td>\n",
       "      <td>-0.893742</td>\n",
       "      <td>0.748407</td>\n",
       "      <td>-0.855746</td>\n",
       "      <td>67</td>\n",
       "    </tr>\n",
       "    <tr>\n",
       "      <th>1</th>\n",
       "      <td>-0.162822</td>\n",
       "      <td>-1.383736</td>\n",
       "      <td>-1.562146</td>\n",
       "      <td>-0.143488</td>\n",
       "      <td>-1.214685</td>\n",
       "      <td>0.661399</td>\n",
       "      <td>-1.116110</td>\n",
       "      <td>-1.302866</td>\n",
       "      <td>0.285825</td>\n",
       "      <td>0.411451</td>\n",
       "      <td>0.285971</td>\n",
       "      <td>-0.327233</td>\n",
       "      <td>-0.661006</td>\n",
       "      <td>-1.575587</td>\n",
       "      <td>1.001199</td>\n",
       "      <td>-0.342867</td>\n",
       "      <td>0.390223</td>\n",
       "      <td>-0.743665</td>\n",
       "      <td>1.168570</td>\n",
       "      <td>61</td>\n",
       "    </tr>\n",
       "    <tr>\n",
       "      <th>2</th>\n",
       "      <td>0.671882</td>\n",
       "      <td>1.560853</td>\n",
       "      <td>-0.124267</td>\n",
       "      <td>-0.143488</td>\n",
       "      <td>0.823259</td>\n",
       "      <td>-0.019796</td>\n",
       "      <td>1.106313</td>\n",
       "      <td>0.134442</td>\n",
       "      <td>0.285825</td>\n",
       "      <td>0.411451</td>\n",
       "      <td>0.285971</td>\n",
       "      <td>-0.327233</td>\n",
       "      <td>-0.661006</td>\n",
       "      <td>-0.252518</td>\n",
       "      <td>1.001199</td>\n",
       "      <td>-0.342867</td>\n",
       "      <td>1.674187</td>\n",
       "      <td>0.748407</td>\n",
       "      <td>-0.855746</td>\n",
       "      <td>74</td>\n",
       "    </tr>\n",
       "    <tr>\n",
       "      <th>3</th>\n",
       "      <td>1.506587</td>\n",
       "      <td>0.781403</td>\n",
       "      <td>-1.562146</td>\n",
       "      <td>-0.143488</td>\n",
       "      <td>0.823259</td>\n",
       "      <td>0.661399</td>\n",
       "      <td>1.592469</td>\n",
       "      <td>0.134442</td>\n",
       "      <td>0.285825</td>\n",
       "      <td>-0.401242</td>\n",
       "      <td>0.285971</td>\n",
       "      <td>-0.327233</td>\n",
       "      <td>-0.661006</td>\n",
       "      <td>-1.575587</td>\n",
       "      <td>1.001199</td>\n",
       "      <td>-0.342867</td>\n",
       "      <td>-0.893742</td>\n",
       "      <td>-0.743665</td>\n",
       "      <td>-0.855746</td>\n",
       "      <td>71</td>\n",
       "    </tr>\n",
       "    <tr>\n",
       "      <th>4</th>\n",
       "      <td>-0.162822</td>\n",
       "      <td>1.041220</td>\n",
       "      <td>-0.124267</td>\n",
       "      <td>-0.143488</td>\n",
       "      <td>0.823259</td>\n",
       "      <td>-0.700990</td>\n",
       "      <td>-0.699406</td>\n",
       "      <td>0.134442</td>\n",
       "      <td>0.285825</td>\n",
       "      <td>1.224144</td>\n",
       "      <td>0.285971</td>\n",
       "      <td>1.348757</td>\n",
       "      <td>-0.661006</td>\n",
       "      <td>-0.252518</td>\n",
       "      <td>1.001199</td>\n",
       "      <td>-0.342867</td>\n",
       "      <td>0.390223</td>\n",
       "      <td>0.748407</td>\n",
       "      <td>1.168570</td>\n",
       "      <td>70</td>\n",
       "    </tr>\n",
       "  </tbody>\n",
       "</table>\n",
       "</div>"
      ]
     },
     "execution_count": 451,
     "metadata": {},
     "output_type": "execute_result"
    }
   ],
   "execution_count": 451
  },
  {
   "metadata": {
    "ExecuteTime": {
     "end_time": "2025-04-19T16:52:43.391406Z",
     "start_time": "2025-04-19T16:52:43.384346Z"
    }
   },
   "cell_type": "code",
   "source": [
    "X = studentDataset[featureColumns]\n",
    "Y = studentDataset[targetColumn]\n",
    "XTrain, XTest, YTrain, YTest = train_test_split(X, Y, test_size=0.2, random_state=RANDOM_STATE)"
   ],
   "id": "58b6f1b2ab71c87b",
   "outputs": [],
   "execution_count": 452
  },
  {
   "metadata": {
    "ExecuteTime": {
     "end_time": "2025-04-19T16:52:43.439015Z",
     "start_time": "2025-04-19T16:52:43.428060Z"
    }
   },
   "cell_type": "code",
   "source": [
    "model = LinearRegression()\n",
    "model.fit(XTrain, YTrain)\n",
    "YPred = model.predict(XTest)\n",
    "print('MAE: ', round(MAE(YTest, YPred), 8))\n",
    "print('MSE: ', round(MSE(YTest, YPred), 8))\n",
    "print('R2S: ', round(R2(YTest, YPred), 8))"
   ],
   "id": "7b292e8932846b03",
   "outputs": [
    {
     "name": "stdout",
     "output_type": "stream",
     "text": [
      "MAE:  0.44428946\n",
      "MSE:  3.23794591\n",
      "R2S:  0.77092824\n"
     ]
    }
   ],
   "execution_count": 453
  },
  {
   "metadata": {
    "ExecuteTime": {
     "end_time": "2025-04-19T16:52:43.471783Z",
     "start_time": "2025-04-19T16:52:43.463882Z"
    }
   },
   "cell_type": "code",
   "source": [
    "model = NormalEquation()\n",
    "model.fit(XTrain, YTrain)\n",
    "YPred = model.predict(XTest)\n",
    "print('MAE: ', round(MAE(YTest, YPred), 8))\n",
    "print('MSE: ', round(MSE(YTest, YPred), 8))\n",
    "print('R2S: ', round(R2(YTest, YPred), 8))"
   ],
   "id": "65fade0a7025633b",
   "outputs": [
    {
     "name": "stdout",
     "output_type": "stream",
     "text": [
      "MAE:  0.44428946\n",
      "MSE:  3.23794591\n",
      "R2S:  0.77092824\n"
     ]
    }
   ],
   "execution_count": 454
  }
 ],
 "metadata": {
  "kernelspec": {
   "display_name": "Python 3",
   "language": "python",
   "name": "python3"
  },
  "language_info": {
   "codemirror_mode": {
    "name": "ipython",
    "version": 2
   },
   "file_extension": ".py",
   "mimetype": "text/x-python",
   "name": "python",
   "nbconvert_exporter": "python",
   "pygments_lexer": "ipython2",
   "version": "2.7.6"
  }
 },
 "nbformat": 4,
 "nbformat_minor": 5
}
